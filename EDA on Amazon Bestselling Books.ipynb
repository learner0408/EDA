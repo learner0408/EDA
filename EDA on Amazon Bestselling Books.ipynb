{
  "nbformat": 4,
  "nbformat_minor": 0,
  "metadata": {
    "colab": {
      "name": "EDA.ipynb",
      "provenance": []
    },
    "kernelspec": {
      "name": "python3",
      "display_name": "Python 3"
    },
    "language_info": {
      "name": "python"
    }
  },
  "cells": [
    {
      "cell_type": "markdown",
      "metadata": {
        "id": "mUg6WG_ePZ2G"
      },
      "source": [
        "   # **Exploratory Data Analysis**\n",
        "  "
      ]
    },
    {
      "cell_type": "markdown",
      "metadata": {
        "id": "lgDdIA2HndE6"
      },
      "source": [
        "Exploratory Data Analysis or (EDA) is an approach of summarizing the data and explaining  the key characterstics of the dataset. It is done using various statistical and visualization methods. This is one of the essential step before modeling the data. It also helps in guiding which model to apply based on how data looks like. There is not one way of doing EDA, it varies from data to data."
      ]
    },
    {
      "cell_type": "markdown",
      "metadata": {
        "id": "QQaJVcaqq9K5"
      },
      "source": [
        "**Dataset** - In this project we will be using data of top 5 best selling books each year on Amazon from Year 2009-2019. There are total of 550 books, each having features:- Name of Book, Author Name, User Rating, Reviews, Price, Year, Genre.\\\n",
        "Now we will explore more about data and its characterstics."
      ]
    },
    {
      "cell_type": "markdown",
      "metadata": {
        "id": "0xUwGyrbqdwz"
      },
      "source": [
        "***Importing Libraries For EDA*** "
      ]
    },
    {
      "cell_type": "code",
      "metadata": {
        "id": "-qbbNMvuRAWN"
      },
      "source": [
        "import pandas as pd\n",
        "import seaborn as sns\n",
        "import matplotlib.pyplot as plt\n",
        "import numpy as np\n",
        " \n"
      ],
      "execution_count": 1,
      "outputs": []
    },
    {
      "cell_type": "markdown",
      "metadata": {
        "id": "vkRC-l5bqyIj"
      },
      "source": [
        "***Loading Data Into Dataframe***"
      ]
    },
    {
      "cell_type": "code",
      "metadata": {
        "id": "INSkvDjDPMrq"
      },
      "source": [
        "df = pd.read_csv(\"/content/bestsellers with categories.csv\")"
      ],
      "execution_count": 2,
      "outputs": []
    },
    {
      "cell_type": "markdown",
      "metadata": {
        "id": "nM159IBAq7z0"
      },
      "source": [
        "***Printing Top Five Rows Of Dataset***"
      ]
    },
    {
      "cell_type": "markdown",
      "metadata": {
        "id": "pbAbQnG93WV0"
      },
      "source": [
        "If not known much about the datset, this can help us show what are the features in our dataset and what they look like(data type)."
      ]
    },
    {
      "cell_type": "code",
      "metadata": {
        "colab": {
          "base_uri": "https://localhost:8080/",
          "height": 204
        },
        "id": "7um_0WRIbYyH",
        "outputId": "af336380-8040-4cdf-bb5f-f93937df60f3"
      },
      "source": [
        "df.head()"
      ],
      "execution_count": 3,
      "outputs": [
        {
          "output_type": "execute_result",
          "data": {
            "text/html": [
              "<div>\n",
              "<style scoped>\n",
              "    .dataframe tbody tr th:only-of-type {\n",
              "        vertical-align: middle;\n",
              "    }\n",
              "\n",
              "    .dataframe tbody tr th {\n",
              "        vertical-align: top;\n",
              "    }\n",
              "\n",
              "    .dataframe thead th {\n",
              "        text-align: right;\n",
              "    }\n",
              "</style>\n",
              "<table border=\"1\" class=\"dataframe\">\n",
              "  <thead>\n",
              "    <tr style=\"text-align: right;\">\n",
              "      <th></th>\n",
              "      <th>Name</th>\n",
              "      <th>Author</th>\n",
              "      <th>User Rating</th>\n",
              "      <th>Reviews</th>\n",
              "      <th>Price</th>\n",
              "      <th>Year</th>\n",
              "      <th>Genre</th>\n",
              "    </tr>\n",
              "  </thead>\n",
              "  <tbody>\n",
              "    <tr>\n",
              "      <th>0</th>\n",
              "      <td>10-Day Green Smoothie Cleanse</td>\n",
              "      <td>JJ Smith</td>\n",
              "      <td>4.7</td>\n",
              "      <td>17350</td>\n",
              "      <td>8</td>\n",
              "      <td>2016</td>\n",
              "      <td>Non Fiction</td>\n",
              "    </tr>\n",
              "    <tr>\n",
              "      <th>1</th>\n",
              "      <td>11/22/63: A Novel</td>\n",
              "      <td>Stephen King</td>\n",
              "      <td>4.6</td>\n",
              "      <td>2052</td>\n",
              "      <td>22</td>\n",
              "      <td>2011</td>\n",
              "      <td>Fiction</td>\n",
              "    </tr>\n",
              "    <tr>\n",
              "      <th>2</th>\n",
              "      <td>12 Rules for Life: An Antidote to Chaos</td>\n",
              "      <td>Jordan B. Peterson</td>\n",
              "      <td>4.7</td>\n",
              "      <td>18979</td>\n",
              "      <td>15</td>\n",
              "      <td>2018</td>\n",
              "      <td>Non Fiction</td>\n",
              "    </tr>\n",
              "    <tr>\n",
              "      <th>3</th>\n",
              "      <td>1984 (Signet Classics)</td>\n",
              "      <td>George Orwell</td>\n",
              "      <td>4.7</td>\n",
              "      <td>21424</td>\n",
              "      <td>6</td>\n",
              "      <td>2017</td>\n",
              "      <td>Fiction</td>\n",
              "    </tr>\n",
              "    <tr>\n",
              "      <th>4</th>\n",
              "      <td>5,000 Awesome Facts (About Everything!) (Natio...</td>\n",
              "      <td>National Geographic Kids</td>\n",
              "      <td>4.8</td>\n",
              "      <td>7665</td>\n",
              "      <td>12</td>\n",
              "      <td>2019</td>\n",
              "      <td>Non Fiction</td>\n",
              "    </tr>\n",
              "  </tbody>\n",
              "</table>\n",
              "</div>"
            ],
            "text/plain": [
              "                                                Name  ...        Genre\n",
              "0                      10-Day Green Smoothie Cleanse  ...  Non Fiction\n",
              "1                                  11/22/63: A Novel  ...      Fiction\n",
              "2            12 Rules for Life: An Antidote to Chaos  ...  Non Fiction\n",
              "3                             1984 (Signet Classics)  ...      Fiction\n",
              "4  5,000 Awesome Facts (About Everything!) (Natio...  ...  Non Fiction\n",
              "\n",
              "[5 rows x 7 columns]"
            ]
          },
          "metadata": {},
          "execution_count": 3
        }
      ]
    },
    {
      "cell_type": "markdown",
      "metadata": {
        "id": "QEr2o8NDrKIJ"
      },
      "source": [
        "***Printing the DataTypes of Features Of Dataset***"
      ]
    },
    {
      "cell_type": "code",
      "metadata": {
        "id": "3jaqGeMjlKex",
        "colab": {
          "base_uri": "https://localhost:8080/"
        },
        "outputId": "d742b811-08f7-41b9-fba4-43c28c0079ad"
      },
      "source": [
        "df.dtypes"
      ],
      "execution_count": 4,
      "outputs": [
        {
          "output_type": "execute_result",
          "data": {
            "text/plain": [
              "Name            object\n",
              "Author          object\n",
              "User Rating    float64\n",
              "Reviews          int64\n",
              "Price            int64\n",
              "Year             int64\n",
              "Genre           object\n",
              "dtype: object"
            ]
          },
          "metadata": {},
          "execution_count": 4
        }
      ]
    },
    {
      "cell_type": "markdown",
      "metadata": {
        "id": "7xNf2rFSrZLA"
      },
      "source": [
        "***Printing Size Of Dataset***"
      ]
    },
    {
      "cell_type": "code",
      "metadata": {
        "colab": {
          "base_uri": "https://localhost:8080/"
        },
        "id": "oIK2IAhaDEiC",
        "outputId": "c595aee9-63a9-4d53-deaf-4d5fdc470e27"
      },
      "source": [
        "df.shape"
      ],
      "execution_count": 5,
      "outputs": [
        {
          "output_type": "execute_result",
          "data": {
            "text/plain": [
              "(550, 7)"
            ]
          },
          "metadata": {},
          "execution_count": 5
        }
      ]
    },
    {
      "cell_type": "markdown",
      "metadata": {
        "id": "_qIq0DuqrlP2"
      },
      "source": [
        "***Removing any Duplicate Rows From the Dataset***"
      ]
    },
    {
      "cell_type": "markdown",
      "metadata": {
        "id": "51-JbukDuiT9"
      },
      "source": [
        "It happens sometimes that while collecting data there may be multiple occurence of the same observation. This affect while modelling the data. That's why it is better to remove them."
      ]
    },
    {
      "cell_type": "code",
      "metadata": {
        "colab": {
          "base_uri": "https://localhost:8080/"
        },
        "id": "PnNN9MfHDIgK",
        "outputId": "772b1b2f-e20c-423b-ef4c-e35abafa0c96"
      },
      "source": [
        "df = df.drop_duplicates()\n",
        "df.count()"
      ],
      "execution_count": 6,
      "outputs": [
        {
          "output_type": "execute_result",
          "data": {
            "text/plain": [
              "Name           550\n",
              "Author         550\n",
              "User Rating    550\n",
              "Reviews        550\n",
              "Price          550\n",
              "Year           550\n",
              "Genre          550\n",
              "dtype: int64"
            ]
          },
          "metadata": {},
          "execution_count": 6
        }
      ]
    },
    {
      "cell_type": "markdown",
      "metadata": {
        "id": "bs3dNjr_rwB8"
      },
      "source": [
        "***Checking If Any of the Rows has Null/NA value***"
      ]
    },
    {
      "cell_type": "markdown",
      "metadata": {
        "id": "neQLVMMF0lXS"
      },
      "source": [
        "It might happen sometimes that while collecting data, some observation is incomplete. So it is good to check it before. There several ways of handling missing values. Some are:-\\\n",
        "**1)** To delete that observation.(This is generally used when the ratio of number of observations whose values are missing to total number of observation is small ). For exp - 10 out of 10,000.\\\n",
        "**2)** Replacing it with Mean/Median/Mode(This is generally used when the ratio of number of observations whose values are missing to total number of observation is compartively large).For exp - 10 out of 1000.\\\n",
        "**3)** Predicting the missing values by using some algorithm like Linear Regression etc."
      ]
    },
    {
      "cell_type": "code",
      "metadata": {
        "colab": {
          "base_uri": "https://localhost:8080/"
        },
        "id": "oVY7T_aaDlAC",
        "outputId": "0eccc701-7309-43a8-b52b-9fc28470cbed"
      },
      "source": [
        "print(df.isnull().sum())\n",
        "# Here no value is missing Else we would use df.dropna() to remove Null or N/A values"
      ],
      "execution_count": 7,
      "outputs": [
        {
          "output_type": "stream",
          "name": "stdout",
          "text": [
            "Name           0\n",
            "Author         0\n",
            "User Rating    0\n",
            "Reviews        0\n",
            "Price          0\n",
            "Year           0\n",
            "Genre          0\n",
            "dtype: int64\n"
          ]
        }
      ]
    },
    {
      "cell_type": "markdown",
      "metadata": {
        "id": "dJ6pBgRsr4wo"
      },
      "source": [
        "***Sorting the Data***"
      ]
    },
    {
      "cell_type": "markdown",
      "metadata": {
        "id": "bgVF2dZzzLf0"
      },
      "source": [
        "This is not the necessary part of the EDA. But in our case it can help us gain valuable insights(As mentioned in the next step) as we know that the years are from 2009-2019 which is in sorted manner."
      ]
    },
    {
      "cell_type": "code",
      "metadata": {
        "colab": {
          "base_uri": "https://localhost:8080/",
          "height": 204
        },
        "id": "uB1Tfhw2b66R",
        "outputId": "d98fbbcd-afab-4be9-82ba-eddddb6ba738"
      },
      "source": [
        "df =df.sort_values(by=['Year','User Rating'])\n",
        "df.head()"
      ],
      "execution_count": 8,
      "outputs": [
        {
          "output_type": "execute_result",
          "data": {
            "text/html": [
              "<div>\n",
              "<style scoped>\n",
              "    .dataframe tbody tr th:only-of-type {\n",
              "        vertical-align: middle;\n",
              "    }\n",
              "\n",
              "    .dataframe tbody tr th {\n",
              "        vertical-align: top;\n",
              "    }\n",
              "\n",
              "    .dataframe thead th {\n",
              "        text-align: right;\n",
              "    }\n",
              "</style>\n",
              "<table border=\"1\" class=\"dataframe\">\n",
              "  <thead>\n",
              "    <tr style=\"text-align: right;\">\n",
              "      <th></th>\n",
              "      <th>Name</th>\n",
              "      <th>Author</th>\n",
              "      <th>User Rating</th>\n",
              "      <th>Reviews</th>\n",
              "      <th>Price</th>\n",
              "      <th>Year</th>\n",
              "      <th>Genre</th>\n",
              "    </tr>\n",
              "  </thead>\n",
              "  <tbody>\n",
              "    <tr>\n",
              "      <th>304</th>\n",
              "      <td>StrengthsFinder 2.0</td>\n",
              "      <td>Gallup</td>\n",
              "      <td>4.0</td>\n",
              "      <td>5069</td>\n",
              "      <td>17</td>\n",
              "      <td>2009</td>\n",
              "      <td>Non Fiction</td>\n",
              "    </tr>\n",
              "    <tr>\n",
              "      <th>364</th>\n",
              "      <td>The Elegance of the Hedgehog</td>\n",
              "      <td>Muriel Barbery</td>\n",
              "      <td>4.0</td>\n",
              "      <td>1859</td>\n",
              "      <td>11</td>\n",
              "      <td>2009</td>\n",
              "      <td>Fiction</td>\n",
              "    </tr>\n",
              "    <tr>\n",
              "      <th>254</th>\n",
              "      <td>Olive Kitteridge</td>\n",
              "      <td>Elizabeth Strout</td>\n",
              "      <td>4.2</td>\n",
              "      <td>4519</td>\n",
              "      <td>12</td>\n",
              "      <td>2009</td>\n",
              "      <td>Fiction</td>\n",
              "    </tr>\n",
              "    <tr>\n",
              "      <th>429</th>\n",
              "      <td>The Lost Symbol</td>\n",
              "      <td>Dan Brown</td>\n",
              "      <td>4.2</td>\n",
              "      <td>8747</td>\n",
              "      <td>19</td>\n",
              "      <td>2009</td>\n",
              "      <td>Fiction</td>\n",
              "    </tr>\n",
              "    <tr>\n",
              "      <th>92</th>\n",
              "      <td>Eat This, Not That! Thousands of Simple Food S...</td>\n",
              "      <td>David Zinczenko</td>\n",
              "      <td>4.3</td>\n",
              "      <td>956</td>\n",
              "      <td>14</td>\n",
              "      <td>2009</td>\n",
              "      <td>Non Fiction</td>\n",
              "    </tr>\n",
              "  </tbody>\n",
              "</table>\n",
              "</div>"
            ],
            "text/plain": [
              "                                                  Name  ...        Genre\n",
              "304                                StrengthsFinder 2.0  ...  Non Fiction\n",
              "364                       The Elegance of the Hedgehog  ...      Fiction\n",
              "254                                   Olive Kitteridge  ...      Fiction\n",
              "429                                    The Lost Symbol  ...      Fiction\n",
              "92   Eat This, Not That! Thousands of Simple Food S...  ...  Non Fiction\n",
              "\n",
              "[5 rows x 7 columns]"
            ]
          },
          "metadata": {},
          "execution_count": 8
        }
      ]
    },
    {
      "cell_type": "markdown",
      "metadata": {
        "id": "T5llfd1hvKwY"
      },
      "source": [
        "***Finding The Highest Rated Book Of Each Year (From 2009-2019)***"
      ]
    },
    {
      "cell_type": "code",
      "metadata": {
        "colab": {
          "base_uri": "https://localhost:8080/"
        },
        "id": "ychxKAMYcG2w",
        "outputId": "96cf2c48-5ed4-4316-f1f1-cba1d1b6ef69"
      },
      "source": [
        "from collections import defaultdict\n",
        "Best_per_year = defaultdict(list)\n",
        "for i in df.index:\n",
        "    yr = df['Year'][i]\n",
        "    rat = df['User Rating'][i]\n",
        "    name = df['Name'][i]\n",
        "    if Best_per_year[int(yr)]==[]:\n",
        "      Best_per_year[int(yr)].append(name)\n",
        "      Best_per_year[int(yr)].append(rat)\n",
        "    elif Best_per_year[int(yr)][1]<rat:\n",
        "      Best_per_year[int(yr)][0] = name\n",
        "      Best_per_year[int(yr)][1] = rat\n",
        "Best_per_year"
      ],
      "execution_count": 9,
      "outputs": [
        {
          "output_type": "execute_result",
          "data": {
            "text/plain": [
              "defaultdict(list,\n",
              "            {2009: ['Diary of a Wimpy Kid: The Last Straw (Book 3)', 4.8],\n",
              "             2010: ['Percy Jackson and the Olympians Paperback Boxed Set (Books 1-3)',\n",
              "              4.8],\n",
              "             2011: ['Jesus Calling: Enjoying Peace in His Presence (with Scripture References)',\n",
              "              4.9],\n",
              "             2012: ['Goodnight, Goodnight Construction Site (Hardcover Books for Toddlers, Preschool Books for Kids)',\n",
              "              4.9],\n",
              "             2013: ['Goodnight, Goodnight Construction Site (Hardcover Books for Toddlers, Preschool Books for Kids)',\n",
              "              4.9],\n",
              "             2014: ['Jesus Calling: Enjoying Peace in His Presence (with Scripture References)',\n",
              "              4.9],\n",
              "             2015: ['Humans of New York : Stories', 4.9],\n",
              "             2016: ['Hamilton: The Revolution', 4.9],\n",
              "             2017: ['Brown Bear, Brown Bear, What Do You See?', 4.9],\n",
              "             2018: ['Dog Man and Cat Kid: From the Creator of Captain Underpants (Dog Man #4)',\n",
              "              4.9],\n",
              "             2019: ['Brown Bear, Brown Bear, What Do You See?', 4.9]})"
            ]
          },
          "metadata": {},
          "execution_count": 9
        }
      ]
    },
    {
      "cell_type": "markdown",
      "metadata": {
        "id": "xdRvo9skvbVb"
      },
      "source": [
        "***Finding The Outliers In Data Using Boxplot***"
      ]
    },
    {
      "cell_type": "markdown",
      "metadata": {
        "id": "BHYH0B32u--C"
      },
      "source": [
        "An outlier is a point or set of points that are different from the other points. Their value can be quiet large or quite low relative to the other data points. They can be result from changes in system behaviour, fraudulent behaviour, human error or instrument error. It is important to detect and analyse them because they can result is less accurate model. Here we are using **IQR score technique** to detect and remove outliers and visualizing them with the help of **boxplot**."
      ]
    },
    {
      "cell_type": "code",
      "metadata": {
        "colab": {
          "base_uri": "https://localhost:8080/",
          "height": 296
        },
        "id": "zvFiPPS6Fuas",
        "outputId": "3770df6a-284e-426e-e8cb-2589404feffb"
      },
      "source": [
        "sns.boxplot(x=df[\"Reviews\"])"
      ],
      "execution_count": 10,
      "outputs": [
        {
          "output_type": "execute_result",
          "data": {
            "text/plain": [
              "<matplotlib.axes._subplots.AxesSubplot at 0x7f4b7e0de650>"
            ]
          },
          "metadata": {},
          "execution_count": 10
        },
        {
          "output_type": "display_data",
          "data": {
            "image/png": "[encoded data removed]",
            "text/plain": [
              "<Figure size 432x288 with 1 Axes>"
            ]
          },
          "metadata": {
            "needs_background": "light"
          }
        }
      ]
    },
    {
      "cell_type": "code",
      "metadata": {
        "colab": {
          "base_uri": "https://localhost:8080/",
          "height": 296
        },
        "id": "UkVAB3Ate0qc",
        "outputId": "442d07e4-d3c7-4468-86b3-05d5d7d72ae9"
      },
      "source": [
        "sns.boxplot(x=df[\"User Rating\"])"
      ],
      "execution_count": 11,
      "outputs": [
        {
          "output_type": "execute_result",
          "data": {
            "text/plain": [
              "<matplotlib.axes._subplots.AxesSubplot at 0x7f4b7e07af10>"
            ]
          },
          "metadata": {},
          "execution_count": 11
        },
        {
          "output_type": "display_data",
          "data": {
            "image/png": "[encoded data removed]",
            "text/plain": [
              "<Figure size 432x288 with 1 Axes>"
            ]
          },
          "metadata": {
            "needs_background": "light"
          }
        }
      ]
    },
    {
      "cell_type": "code",
      "metadata": {
        "colab": {
          "base_uri": "https://localhost:8080/",
          "height": 296
        },
        "id": "SYNagZ_2fYjO",
        "outputId": "0fada39f-d4f7-4ff9-a945-092861830876"
      },
      "source": [
        "sns.boxplot(x=df[\"Price\"])"
      ],
      "execution_count": 12,
      "outputs": [
        {
          "output_type": "execute_result",
          "data": {
            "text/plain": [
              "<matplotlib.axes._subplots.AxesSubplot at 0x7f4b7db54810>"
            ]
          },
          "metadata": {},
          "execution_count": 12
        },
        {
          "output_type": "display_data",
          "data": {
            "image/png": "[encoded data removed]",
            "text/plain": [
              "<Figure size 432x288 with 1 Axes>"
            ]
          },
          "metadata": {
            "needs_background": "light"
          }
        }
      ]
    },
    {
      "cell_type": "markdown",
      "metadata": {
        "id": "4G6j48vkx1a4"
      },
      "source": [
        "**Q1** is the point upto which **25 percent** of the observations has value below or equal to it.\\\n",
        "**Q2** is the point upto which **50 percent** of the observations has value below or equal to it.\\\n",
        "**Q3** is the point upto which **75 percent** of the observations has value below or equal to it.\n",
        "\n",
        "**IQR = Q3-Q1**. IQR denotes the **middle 50% of the observations** when ordered from lowest to highest.\n",
        "\n",
        "![Iqr_with_quantile.png](data:image/png;base64,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)"
      ]
    },
    {
      "cell_type": "code",
      "metadata": {
        "colab": {
          "base_uri": "https://localhost:8080/"
        },
        "id": "AZAcOwU0oMu5",
        "outputId": "aaeb381d-776a-4f57-f400-63c6ed67416a"
      },
      "source": [
        "Q1 = df.quantile(0.25)\n",
        "Q3 = df.quantile(0.75)\n",
        "IQR = Q3-Q1\n",
        "print(IQR)"
      ],
      "execution_count": 13,
      "outputs": [
        {
          "output_type": "stream",
          "name": "stdout",
          "text": [
            "User Rating        0.30\n",
            "Reviews        13195.25\n",
            "Price              9.00\n",
            "Year               6.00\n",
            "dtype: float64\n"
          ]
        }
      ]
    },
    {
      "cell_type": "markdown",
      "metadata": {
        "id": "8iNEZ-wbxNhj"
      },
      "source": [
        "***Removing Outliers***"
      ]
    },
    {
      "cell_type": "code",
      "metadata": {
        "colab": {
          "base_uri": "https://localhost:8080/"
        },
        "id": "MmWbHnSeon2y",
        "outputId": "f3f87418-e2ea-4b1e-c080-ab90428c24a3"
      },
      "source": [
        "df = df[~((df<Q1-1.5*IQR)|(df>Q3+1.5*IQR)).any(axis=1)]\n",
        "df.shape"
      ],
      "execution_count": 14,
      "outputs": [
        {
          "output_type": "execute_result",
          "data": {
            "text/plain": [
              "(486, 7)"
            ]
          },
          "metadata": {},
          "execution_count": 14
        }
      ]
    },
    {
      "cell_type": "markdown",
      "metadata": {
        "id": "zdaYwZ5gyuA-"
      },
      "source": [
        "Size of Dataset before removing outliers = 550\\\n",
        "Size of Dataset after removing outliers = 486\\\n",
        "No of Outliers = 64"
      ]
    },
    {
      "cell_type": "markdown",
      "metadata": {
        "id": "WuijlWkJvj1G"
      },
      "source": [
        "***Scatter Plot***"
      ]
    },
    {
      "cell_type": "markdown",
      "metadata": {
        "id": "S0Th3BBN0Pov"
      },
      "source": [
        "Scatterplot is generally used to find correlation b/w two variables. Here we have drawn scattterplot of **'Reviews' VS 'User Rating'** and **'Price' VS 'User Rating'**."
      ]
    },
    {
      "cell_type": "code",
      "metadata": {
        "colab": {
          "base_uri": "https://localhost:8080/",
          "height": 296
        },
        "id": "CbGKWVKdfmyr",
        "outputId": "ae6cfea5-80a2-420a-af0c-67a957509312"
      },
      "source": [
        "plt.scatter(df['User Rating'],df['Reviews'],c=df['Year'])\n",
        "plt.xlabel(\"User Rating\")\n",
        "plt.ylabel('Reviews')"
      ],
      "execution_count": 15,
      "outputs": [
        {
          "output_type": "execute_result",
          "data": {
            "text/plain": [
              "Text(0, 0.5, 'Reviews')"
            ]
          },
          "metadata": {},
          "execution_count": 15
        },
        {
          "output_type": "display_data",
          "data": {
            "image/png": "[encoded data removed]",
            "text/plain": [
              "<Figure size 432x288 with 1 Axes>"
            ]
          },
          "metadata": {
            "needs_background": "light"
          }
        }
      ]
    },
    {
      "cell_type": "code",
      "metadata": {
        "colab": {
          "base_uri": "https://localhost:8080/",
          "height": 296
        },
        "id": "_YYLkCUwiFx5",
        "outputId": "28ee02f9-b5c4-4692-d368-189d73091549"
      },
      "source": [
        "plt.scatter(df['User Rating'],df['Price'],c=df['Year'])\n",
        "plt.xlabel(\"User Rating\")\n",
        "plt.ylabel('Price')"
      ],
      "execution_count": 16,
      "outputs": [
        {
          "output_type": "execute_result",
          "data": {
            "text/plain": [
              "Text(0, 0.5, 'Price')"
            ]
          },
          "metadata": {},
          "execution_count": 16
        },
        {
          "output_type": "display_data",
          "data": {
            "image/png": "[encoded data removed]",
            "text/plain": [
              "<Figure size 432x288 with 1 Axes>"
            ]
          },
          "metadata": {
            "needs_background": "light"
          }
        }
      ]
    },
    {
      "cell_type": "markdown",
      "metadata": {
        "id": "zAH1_n6mw9P7"
      },
      "source": [
        "**Observations from Scatter Plot:-**\\\n",
        "1) Most of the books have user rating in range 4.2 - 4.9\\\n",
        "2) Most of the books have price in range Rs 3 - Rs 25\\\n",
        "3) Most of the books have reviews in range 1000 - 25000\\\n",
        "4) Both plots Reviews VS User Rating and Price VS User Rating, have approx zero correlation as the points are spread all over the range.\n"
      ]
    },
    {
      "cell_type": "markdown",
      "metadata": {
        "id": "cYEJyGADnPr7"
      },
      "source": [
        "***Heatmap***"
      ]
    },
    {
      "cell_type": "markdown",
      "metadata": {
        "id": "naVyjlPv1oZe"
      },
      "source": [
        "HeatMap is use to find dependent variables. It shows magnitude of a phenomenon as color in two dimensions. Here we have have used it to plot correlation b/w different variables. \n",
        "For our purpose, we are setting that two variables will be dependent if their correlation is greater or equal to 0.5 ."
      ]
    },
    {
      "cell_type": "code",
      "metadata": {
        "id": "YWVjjuuhkGMm",
        "colab": {
          "base_uri": "https://localhost:8080/",
          "height": 752
        },
        "outputId": "0559a632-eb97-4014-b089-452d221e3747"
      },
      "source": [
        "plt.figure(figsize = (20,10))\n",
        "c= df.corr()\n",
        "sns.heatmap(c,annot=True)\n",
        "c"
      ],
      "execution_count": 17,
      "outputs": [
        {
          "output_type": "execute_result",
          "data": {
            "text/html": [
              "<div>\n",
              "<style scoped>\n",
              "    .dataframe tbody tr th:only-of-type {\n",
              "        vertical-align: middle;\n",
              "    }\n",
              "\n",
              "    .dataframe tbody tr th {\n",
              "        vertical-align: top;\n",
              "    }\n",
              "\n",
              "    .dataframe thead th {\n",
              "        text-align: right;\n",
              "    }\n",
              "</style>\n",
              "<table border=\"1\" class=\"dataframe\">\n",
              "  <thead>\n",
              "    <tr style=\"text-align: right;\">\n",
              "      <th></th>\n",
              "      <th>User Rating</th>\n",
              "      <th>Reviews</th>\n",
              "      <th>Price</th>\n",
              "      <th>Year</th>\n",
              "    </tr>\n",
              "  </thead>\n",
              "  <tbody>\n",
              "    <tr>\n",
              "      <th>User Rating</th>\n",
              "      <td>1.000000</td>\n",
              "      <td>0.197624</td>\n",
              "      <td>-0.133432</td>\n",
              "      <td>0.275339</td>\n",
              "    </tr>\n",
              "    <tr>\n",
              "      <th>Reviews</th>\n",
              "      <td>0.197624</td>\n",
              "      <td>1.000000</td>\n",
              "      <td>-0.154319</td>\n",
              "      <td>0.329294</td>\n",
              "    </tr>\n",
              "    <tr>\n",
              "      <th>Price</th>\n",
              "      <td>-0.133432</td>\n",
              "      <td>-0.154319</td>\n",
              "      <td>1.000000</td>\n",
              "      <td>-0.182557</td>\n",
              "    </tr>\n",
              "    <tr>\n",
              "      <th>Year</th>\n",
              "      <td>0.275339</td>\n",
              "      <td>0.329294</td>\n",
              "      <td>-0.182557</td>\n",
              "      <td>1.000000</td>\n",
              "    </tr>\n",
              "  </tbody>\n",
              "</table>\n",
              "</div>"
            ],
            "text/plain": [
              "             User Rating   Reviews     Price      Year\n",
              "User Rating     1.000000  0.197624 -0.133432  0.275339\n",
              "Reviews         0.197624  1.000000 -0.154319  0.329294\n",
              "Price          -0.133432 -0.154319  1.000000 -0.182557\n",
              "Year            0.275339  0.329294 -0.182557  1.000000"
            ]
          },
          "metadata": {},
          "execution_count": 17
        },
        {
          "output_type": "display_data",
          "data": {
            "image/png": "[encoded data removed]",
            "text/plain": [
              "<Figure size 1440x720 with 2 Axes>"
            ]
          },
          "metadata": {
            "needs_background": "light"
          }
        }
      ]
    },
    {
      "cell_type": "markdown",
      "metadata": {
        "id": "6SckmEnuXWlf"
      },
      "source": [
        "From the plot we can see that the correlation values b/w any two different variables are less than 0.5. Therefore all variables are independent of each-other."
      ]
    },
    {
      "cell_type": "code",
      "metadata": {
        "id": "1CNdjC7YulTo"
      },
      "source": [
        ""
      ],
      "execution_count": null,
      "outputs": []
    }
  ]
}